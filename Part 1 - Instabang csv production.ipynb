{
 "cells": [
  {
   "cell_type": "markdown",
   "metadata": {},
   "source": [
    "# Instabang .csv Production Using Pandas"
   ]
  },
  {
   "cell_type": "code",
   "execution_count": 4,
   "metadata": {},
   "outputs": [],
   "source": [
    "import os\n",
    "import pandas as pd\n",
    "import numpy as np\n",
    "import csv\n",
    "\n",
    "from sklearn.model_selection import train_test_split\n",
    "from pathlib import Path"
   ]
  },
  {
   "cell_type": "code",
   "execution_count": 223,
   "metadata": {},
   "outputs": [
    {
     "data": {
      "text/plain": [
       "'/Users/Nick/Desktop/general_assembly/Capstone'"
      ]
     },
     "execution_count": 223,
     "metadata": {},
     "output_type": "execute_result"
    }
   ],
   "source": [
    "pwd"
   ]
  },
  {
   "cell_type": "code",
   "execution_count": 547,
   "metadata": {},
   "outputs": [],
   "source": [
    "with open('./moonmountainman/moomountainman_text/moonmountainman_caption_index', 'w', encoding='utf-8') as out_file:\n",
    "    csv_out = csv.writer(out_file)\n",
    "    csv_out.writerow(['FileName', 'Content'])\n",
    "    for fileName in Path('./moonmountainman/moomountainman_text/').glob('*.txt'):\n",
    "        lines = [ ]\n",
    "        with open(str(fileName.absolute()),'rb') as one_text:\n",
    "            for line in one_text.readlines():\n",
    "                lines.append(line.decode(encoding='utf-8').strip())\n",
    "        csv_out.writerow([str(fileName),' '.join(lines)])"
   ]
  },
  {
   "cell_type": "code",
   "execution_count": 548,
   "metadata": {},
   "outputs": [],
   "source": [
    "df_text = pd.read_csv('./moonmountainman/moomountainman_text/moonmountainman_caption_index')"
   ]
  },
  {
   "cell_type": "code",
   "execution_count": 549,
   "metadata": {},
   "outputs": [],
   "source": [
    "di = []\n",
    "for row in df_text.FileName:\n",
    "    d = row.split('/')\n",
    "#     d = row.split('.txt')\n",
    "    di.append(d[2])"
   ]
  },
  {
   "cell_type": "code",
   "execution_count": 550,
   "metadata": {},
   "outputs": [],
   "source": [
    "df_text = df_text.assign(FileName=di)"
   ]
  },
  {
   "cell_type": "code",
   "execution_count": 551,
   "metadata": {},
   "outputs": [
    {
     "data": {
      "text/html": [
       "<div>\n",
       "<style scoped>\n",
       "    .dataframe tbody tr th:only-of-type {\n",
       "        vertical-align: middle;\n",
       "    }\n",
       "\n",
       "    .dataframe tbody tr th {\n",
       "        vertical-align: top;\n",
       "    }\n",
       "\n",
       "    .dataframe thead th {\n",
       "        text-align: right;\n",
       "    }\n",
       "</style>\n",
       "<table border=\"1\" class=\"dataframe\">\n",
       "  <thead>\n",
       "    <tr style=\"text-align: right;\">\n",
       "      <th></th>\n",
       "      <th>FileName</th>\n",
       "      <th>Content</th>\n",
       "    </tr>\n",
       "  </thead>\n",
       "  <tbody>\n",
       "    <tr>\n",
       "      <th>410</th>\n",
       "      <td>2014-10-12_22-40-33_UTC.txt</td>\n",
       "      <td>My first post on Instagram. Time to figure thi...</td>\n",
       "    </tr>\n",
       "    <tr>\n",
       "      <th>707</th>\n",
       "      <td>2014-10-13_04-57-12_UTC.txt</td>\n",
       "      <td>Long before the mirror there was the reflectio...</td>\n",
       "    </tr>\n",
       "    <tr>\n",
       "      <th>763</th>\n",
       "      <td>2014-10-16_01-22-10_UTC.txt</td>\n",
       "      <td>As the days get shorter, darkness creeps back ...</td>\n",
       "    </tr>\n",
       "    <tr>\n",
       "      <th>537</th>\n",
       "      <td>2014-10-16_01-32-15_UTC.txt</td>\n",
       "      <td>\"Sunshine is delicious, rain is refreshing, wi...</td>\n",
       "    </tr>\n",
       "    <tr>\n",
       "      <th>754</th>\n",
       "      <td>2014-10-17_00-16-47_UTC.txt</td>\n",
       "      <td>For my friends birthday party we went out and ...</td>\n",
       "    </tr>\n",
       "  </tbody>\n",
       "</table>\n",
       "</div>"
      ],
      "text/plain": [
       "                        FileName  \\\n",
       "410  2014-10-12_22-40-33_UTC.txt   \n",
       "707  2014-10-13_04-57-12_UTC.txt   \n",
       "763  2014-10-16_01-22-10_UTC.txt   \n",
       "537  2014-10-16_01-32-15_UTC.txt   \n",
       "754  2014-10-17_00-16-47_UTC.txt   \n",
       "\n",
       "                                               Content  \n",
       "410  My first post on Instagram. Time to figure thi...  \n",
       "707  Long before the mirror there was the reflectio...  \n",
       "763  As the days get shorter, darkness creeps back ...  \n",
       "537  \"Sunshine is delicious, rain is refreshing, wi...  \n",
       "754  For my friends birthday party we went out and ...  "
      ]
     },
     "execution_count": 551,
     "metadata": {},
     "output_type": "execute_result"
    }
   ],
   "source": [
    "df_text.sort_values(by='FileName', axis=0, inplace=True)\n",
    "df_text.head()"
   ]
  },
  {
   "cell_type": "code",
   "execution_count": 552,
   "metadata": {},
   "outputs": [
    {
     "data": {
      "text/html": [
       "<div>\n",
       "<style scoped>\n",
       "    .dataframe tbody tr th:only-of-type {\n",
       "        vertical-align: middle;\n",
       "    }\n",
       "\n",
       "    .dataframe tbody tr th {\n",
       "        vertical-align: top;\n",
       "    }\n",
       "\n",
       "    .dataframe thead th {\n",
       "        text-align: right;\n",
       "    }\n",
       "</style>\n",
       "<table border=\"1\" class=\"dataframe\">\n",
       "  <thead>\n",
       "    <tr style=\"text-align: right;\">\n",
       "      <th></th>\n",
       "      <th>Image FileName</th>\n",
       "    </tr>\n",
       "  </thead>\n",
       "  <tbody>\n",
       "    <tr>\n",
       "      <th>0</th>\n",
       "      <td>2014-10-12_22-40-33_UTC.jpg</td>\n",
       "    </tr>\n",
       "    <tr>\n",
       "      <th>1</th>\n",
       "      <td>2014-10-13_04-57-12_UTC.jpg</td>\n",
       "    </tr>\n",
       "    <tr>\n",
       "      <th>2</th>\n",
       "      <td>2014-10-16_01-22-10_UTC.jpg</td>\n",
       "    </tr>\n",
       "    <tr>\n",
       "      <th>3</th>\n",
       "      <td>2014-10-16_01-32-15_UTC.jpg</td>\n",
       "    </tr>\n",
       "    <tr>\n",
       "      <th>4</th>\n",
       "      <td>2014-10-17_00-16-47_UTC.jpg</td>\n",
       "    </tr>\n",
       "  </tbody>\n",
       "</table>\n",
       "</div>"
      ],
      "text/plain": [
       "                Image FileName\n",
       "0  2014-10-12_22-40-33_UTC.jpg\n",
       "1  2014-10-13_04-57-12_UTC.jpg\n",
       "2  2014-10-16_01-22-10_UTC.jpg\n",
       "3  2014-10-16_01-32-15_UTC.jpg\n",
       "4  2014-10-17_00-16-47_UTC.jpg"
      ]
     },
     "execution_count": 552,
     "metadata": {},
     "output_type": "execute_result"
    }
   ],
   "source": [
    "df_image = pd.read_excel('./moonmountainman/moonmountainman_image/moonmountainman_image_index.xlsx', header=0)\n",
    "df_image.head()"
   ]
  },
  {
   "cell_type": "code",
   "execution_count": 553,
   "metadata": {},
   "outputs": [
    {
     "data": {
      "text/html": [
       "<div>\n",
       "<style scoped>\n",
       "    .dataframe tbody tr th:only-of-type {\n",
       "        vertical-align: middle;\n",
       "    }\n",
       "\n",
       "    .dataframe tbody tr th {\n",
       "        vertical-align: top;\n",
       "    }\n",
       "\n",
       "    .dataframe thead th {\n",
       "        text-align: right;\n",
       "    }\n",
       "</style>\n",
       "<table border=\"1\" class=\"dataframe\">\n",
       "  <thead>\n",
       "    <tr style=\"text-align: right;\">\n",
       "      <th></th>\n",
       "      <th>Image FileName</th>\n",
       "      <th>Captions</th>\n",
       "    </tr>\n",
       "  </thead>\n",
       "  <tbody>\n",
       "    <tr>\n",
       "      <th>0</th>\n",
       "      <td>2014-10-12_22-40-33_UTC.jpg</td>\n",
       "      <td>[My first post on Instagram. Time to figure th...</td>\n",
       "    </tr>\n",
       "    <tr>\n",
       "      <th>1</th>\n",
       "      <td>2014-10-13_04-57-12_UTC.jpg</td>\n",
       "      <td>[Long before the mirror there was the reflecti...</td>\n",
       "    </tr>\n",
       "    <tr>\n",
       "      <th>2</th>\n",
       "      <td>2014-10-16_01-22-10_UTC.jpg</td>\n",
       "      <td>[As the days get shorter, darkness creeps back...</td>\n",
       "    </tr>\n",
       "    <tr>\n",
       "      <th>3</th>\n",
       "      <td>2014-10-16_01-32-15_UTC.jpg</td>\n",
       "      <td>[\"Sunshine is delicious, rain is refreshing, w...</td>\n",
       "    </tr>\n",
       "    <tr>\n",
       "      <th>4</th>\n",
       "      <td>2014-10-17_00-16-47_UTC.jpg</td>\n",
       "      <td>[For my friends birthday party we went out and...</td>\n",
       "    </tr>\n",
       "  </tbody>\n",
       "</table>\n",
       "</div>"
      ],
      "text/plain": [
       "                Image FileName  \\\n",
       "0  2014-10-12_22-40-33_UTC.jpg   \n",
       "1  2014-10-13_04-57-12_UTC.jpg   \n",
       "2  2014-10-16_01-22-10_UTC.jpg   \n",
       "3  2014-10-16_01-32-15_UTC.jpg   \n",
       "4  2014-10-17_00-16-47_UTC.jpg   \n",
       "\n",
       "                                            Captions  \n",
       "0  [My first post on Instagram. Time to figure th...  \n",
       "1  [Long before the mirror there was the reflecti...  \n",
       "2  [As the days get shorter, darkness creeps back...  \n",
       "3  [\"Sunshine is delicious, rain is refreshing, w...  \n",
       "4  [For my friends birthday party we went out and...  "
      ]
     },
     "execution_count": 553,
     "metadata": {},
     "output_type": "execute_result"
    }
   ],
   "source": [
    "df_image['Captions'] = [df_text.Content[df_text['FileName'] == x].values for x in df_image['Image FileName'].map(lambda x: x.split('UTC')[0]+'UTC.txt')]\n",
    "df_image.head()"
   ]
  },
  {
   "cell_type": "code",
   "execution_count": 554,
   "metadata": {},
   "outputs": [
    {
     "data": {
      "text/html": [
       "<div>\n",
       "<style scoped>\n",
       "    .dataframe tbody tr th:only-of-type {\n",
       "        vertical-align: middle;\n",
       "    }\n",
       "\n",
       "    .dataframe tbody tr th {\n",
       "        vertical-align: top;\n",
       "    }\n",
       "\n",
       "    .dataframe thead th {\n",
       "        text-align: right;\n",
       "    }\n",
       "</style>\n",
       "<table border=\"1\" class=\"dataframe\">\n",
       "  <thead>\n",
       "    <tr style=\"text-align: right;\">\n",
       "      <th></th>\n",
       "      <th>Image FileName</th>\n",
       "      <th>Captions</th>\n",
       "    </tr>\n",
       "  </thead>\n",
       "  <tbody>\n",
       "    <tr>\n",
       "      <th>0</th>\n",
       "      <td>2014-10-12_22-40-33_UTC.jpg</td>\n",
       "      <td>My first post on Instagram. Time to figure thi...</td>\n",
       "    </tr>\n",
       "    <tr>\n",
       "      <th>1</th>\n",
       "      <td>2014-10-13_04-57-12_UTC.jpg</td>\n",
       "      <td>Long before the mirror there was the reflectio...</td>\n",
       "    </tr>\n",
       "    <tr>\n",
       "      <th>2</th>\n",
       "      <td>2014-10-16_01-22-10_UTC.jpg</td>\n",
       "      <td>As the days get shorter, darkness creeps back ...</td>\n",
       "    </tr>\n",
       "    <tr>\n",
       "      <th>3</th>\n",
       "      <td>2014-10-16_01-32-15_UTC.jpg</td>\n",
       "      <td>\"Sunshine is delicious, rain is refreshing, wi...</td>\n",
       "    </tr>\n",
       "    <tr>\n",
       "      <th>4</th>\n",
       "      <td>2014-10-17_00-16-47_UTC.jpg</td>\n",
       "      <td>For my friends birthday party we went out and ...</td>\n",
       "    </tr>\n",
       "  </tbody>\n",
       "</table>\n",
       "</div>"
      ],
      "text/plain": [
       "                Image FileName  \\\n",
       "0  2014-10-12_22-40-33_UTC.jpg   \n",
       "1  2014-10-13_04-57-12_UTC.jpg   \n",
       "2  2014-10-16_01-22-10_UTC.jpg   \n",
       "3  2014-10-16_01-32-15_UTC.jpg   \n",
       "4  2014-10-17_00-16-47_UTC.jpg   \n",
       "\n",
       "                                            Captions  \n",
       "0  My first post on Instagram. Time to figure thi...  \n",
       "1  Long before the mirror there was the reflectio...  \n",
       "2  As the days get shorter, darkness creeps back ...  \n",
       "3  \"Sunshine is delicious, rain is refreshing, wi...  \n",
       "4  For my friends birthday party we went out and ...  "
      ]
     },
     "execution_count": 554,
     "metadata": {},
     "output_type": "execute_result"
    }
   ],
   "source": [
    "df_image['Captions']= df_image['Captions'].apply(lambda x: x.tolist()[0] if len(x)>0 else '')\n",
    "df_image.head()"
   ]
  },
  {
   "cell_type": "code",
   "execution_count": 555,
   "metadata": {},
   "outputs": [],
   "source": [
    "train, test = train_test_split(df_image, test_size=0.1)"
   ]
  },
  {
   "cell_type": "code",
   "execution_count": 556,
   "metadata": {},
   "outputs": [
    {
     "name": "stderr",
     "output_type": "stream",
     "text": [
      "/opt/anaconda3/lib/python3.7/site-packages/pandas/core/frame.py:3994: SettingWithCopyWarning: \n",
      "A value is trying to be set on a copy of a slice from a DataFrame\n",
      "\n",
      "See the caveats in the documentation: https://pandas.pydata.org/pandas-docs/stable/user_guide/indexing.html#returning-a-view-versus-a-copy\n",
      "  errors=errors,\n"
     ]
    }
   ],
   "source": [
    "train.drop(columns='Captions', inplace=True, axis=1)"
   ]
  },
  {
   "cell_type": "code",
   "execution_count": 557,
   "metadata": {},
   "outputs": [],
   "source": [
    "test.drop(columns='Captions', inplace=True, axis=1)"
   ]
  },
  {
   "cell_type": "code",
   "execution_count": 558,
   "metadata": {},
   "outputs": [],
   "source": [
    "df_image.to_csv('moonmountainman_index.csv', header=False, index=False)"
   ]
  },
  {
   "cell_type": "code",
   "execution_count": 559,
   "metadata": {},
   "outputs": [],
   "source": [
    "train.to_csv('moonmountainman_train.csv', header=False, index=False, sep=':')"
   ]
  },
  {
   "cell_type": "code",
   "execution_count": 560,
   "metadata": {},
   "outputs": [],
   "source": [
    "test.to_csv('moonmountainman_test.csv', header=False, index=False, sep=':')"
   ]
  },
  {
   "cell_type": "markdown",
   "metadata": {},
   "source": [
    "# Joining All .csv's"
   ]
  },
  {
   "cell_type": "markdown",
   "metadata": {},
   "source": [
    "Loading all index .csv's"
   ]
  },
  {
   "cell_type": "code",
   "execution_count": 492,
   "metadata": {},
   "outputs": [],
   "source": [
    "df_beautifulxtravel = pd.read_csv('./beautifulxtravel/beautifultravel_text/beautifulxtravel_index.csv', header=None)"
   ]
  },
  {
   "cell_type": "code",
   "execution_count": 494,
   "metadata": {},
   "outputs": [],
   "source": [
    "df_chloebarryhang = pd.read_csv('./chloebarryhang/chloebarryhang_text/chloebarryhang_index.csv', header=None)"
   ]
  },
  {
   "cell_type": "code",
   "execution_count": 495,
   "metadata": {},
   "outputs": [],
   "source": [
    "df_explorerssaurus = pd.read_csv('./explorerssaurus_/explorerssaurus_text/explorerssaurus_index.csv', header=None)"
   ]
  },
  {
   "cell_type": "code",
   "execution_count": 443,
   "metadata": {},
   "outputs": [],
   "source": [
    "df_jesswandering = pd.read_csv('./jesswandering/jesswandering_text/jesswandering_index.csv', header=None)"
   ]
  },
  {
   "cell_type": "code",
   "execution_count": 496,
   "metadata": {},
   "outputs": [],
   "source": [
    "df_lostleblanc = pd.read_csv('./lostleblanc/lostleblanc_text/lostleblanc_index.csv', header=None)"
   ]
  },
  {
   "cell_type": "code",
   "execution_count": 561,
   "metadata": {},
   "outputs": [],
   "source": [
    "df_moonmountainman = pd.read_csv('./moonmountainman_index.csv', header=None)"
   ]
  },
  {
   "cell_type": "code",
   "execution_count": 498,
   "metadata": {},
   "outputs": [],
   "source": [
    "df_theblondeabroad = pd.read_csv('./theblondeabroad/theblondabroad_text/theblondeabroad_index.csv', header=None)"
   ]
  },
  {
   "cell_type": "code",
   "execution_count": 499,
   "metadata": {},
   "outputs": [],
   "source": [
    "df_watchluke = pd.read_csv('./watchluke/watchluke_text/watchluke_index.csv', header=None)"
   ]
  },
  {
   "cell_type": "code",
   "execution_count": 500,
   "metadata": {},
   "outputs": [],
   "source": [
    "df_mikesugianto = pd.read_csv('./mikesugianto/mikesugianto_text/mikesugianto_index.csv', header=None)"
   ]
  },
  {
   "cell_type": "code",
   "execution_count": 501,
   "metadata": {},
   "outputs": [],
   "source": [
    "df_jukkarisikko = pd.read_csv('./jukkarisikko/jukkarisikko_text/jukkarisikko_index.csv', header=None)"
   ]
  },
  {
   "cell_type": "code",
   "execution_count": 584,
   "metadata": {},
   "outputs": [],
   "source": [
    "instabang_index = df_beautifulxtravel.append(df_chloebarryhang, ignore_index=True)"
   ]
  },
  {
   "cell_type": "code",
   "execution_count": 585,
   "metadata": {},
   "outputs": [],
   "source": [
    "instabang_index = instabang_index.append(df_explorerssaurus, ignore_index=True)"
   ]
  },
  {
   "cell_type": "code",
   "execution_count": 586,
   "metadata": {},
   "outputs": [],
   "source": [
    "instabang_index = instabang_index.append(df_jesswandering, ignore_index=True)"
   ]
  },
  {
   "cell_type": "code",
   "execution_count": 587,
   "metadata": {},
   "outputs": [],
   "source": [
    "instabang_index = instabang_index.append(df_lostleblanc, ignore_index=True)"
   ]
  },
  {
   "cell_type": "code",
   "execution_count": 588,
   "metadata": {},
   "outputs": [],
   "source": [
    "instabang_index = instabang_index.append(df_moonmountainman, ignore_index=True)"
   ]
  },
  {
   "cell_type": "code",
   "execution_count": 589,
   "metadata": {},
   "outputs": [],
   "source": [
    "instabang_index = instabang_index.append(df_theblondeabroad, ignore_index=True)"
   ]
  },
  {
   "cell_type": "code",
   "execution_count": 590,
   "metadata": {},
   "outputs": [],
   "source": [
    "instabang_index = instabang_index.append(df_watchluke, ignore_index=True)"
   ]
  },
  {
   "cell_type": "code",
   "execution_count": 591,
   "metadata": {},
   "outputs": [],
   "source": [
    "instabang_index = instabang_index.append(df_mikesugianto, ignore_index=True)"
   ]
  },
  {
   "cell_type": "code",
   "execution_count": 592,
   "metadata": {},
   "outputs": [],
   "source": [
    "instabang_index = instabang_index.append(df_jukkarisikko, ignore_index=True)"
   ]
  },
  {
   "cell_type": "code",
   "execution_count": 594,
   "metadata": {},
   "outputs": [],
   "source": [
    "instabang_index.to_csv('instabang_index.txt', header=False, index=False, sep='\\\\', mode='w')"
   ]
  },
  {
   "cell_type": "code",
   "execution_count": 598,
   "metadata": {},
   "outputs": [],
   "source": [
    "instabang_index_df = pd.read_csv('instabang_index.txt', sep='\\\\', header=None)"
   ]
  },
  {
   "cell_type": "code",
   "execution_count": 600,
   "metadata": {},
   "outputs": [],
   "source": [
    "df_beautifulxtravel_train = pd.read_csv('./beautifulxtravel/beautifultravel_text/beautifulxtravel_train.csv', header=None)"
   ]
  },
  {
   "cell_type": "code",
   "execution_count": 601,
   "metadata": {},
   "outputs": [],
   "source": [
    "df_chloebarryhang_train = pd.read_csv('./chloebarryhang/chloebarryhang_text/chloebarryhang_train.csv', header=None)"
   ]
  },
  {
   "cell_type": "code",
   "execution_count": 602,
   "metadata": {},
   "outputs": [],
   "source": [
    "df_explorerssaurus_train = pd.read_csv('./explorerssaurus_/explorerssaurus_text/explorerssaurus_train.csv', header=None)"
   ]
  },
  {
   "cell_type": "code",
   "execution_count": 603,
   "metadata": {},
   "outputs": [],
   "source": [
    "df_jesswandering_train = pd.read_csv('./jesswandering/jesswandering_text/jesswandering_train.csv', header=None)"
   ]
  },
  {
   "cell_type": "code",
   "execution_count": 604,
   "metadata": {},
   "outputs": [],
   "source": [
    "df_lostleblanc_train = pd.read_csv('./lostleblanc/lostleblanc_text/lostleblanc_train.csv', header=None)"
   ]
  },
  {
   "cell_type": "code",
   "execution_count": 605,
   "metadata": {},
   "outputs": [],
   "source": [
    "df_moonmountainman_train = pd.read_csv('./moonmountainman/moomountainman_text/moonmountainman_train.csv', header=None)"
   ]
  },
  {
   "cell_type": "code",
   "execution_count": 606,
   "metadata": {},
   "outputs": [],
   "source": [
    "df_theblondeabroad_train = pd.read_csv('./theblondeabroad/theblondabroad_text/theblondeabroad_train.csv', header=None)"
   ]
  },
  {
   "cell_type": "code",
   "execution_count": 607,
   "metadata": {},
   "outputs": [],
   "source": [
    "df_watchluke_train = pd.read_csv('./watchluke/watchluke_text/watchluke_train.csv', header=None)"
   ]
  },
  {
   "cell_type": "code",
   "execution_count": 608,
   "metadata": {},
   "outputs": [],
   "source": [
    "df_mikesugianto_train = pd.read_csv('./mikesugianto/mikesugianto_text/mikesugianto_train.csv', header=None)"
   ]
  },
  {
   "cell_type": "code",
   "execution_count": 609,
   "metadata": {},
   "outputs": [],
   "source": [
    "df_jukkarisikko_train = pd.read_csv('./jukkarisikko/jukkarisikko_text/jukkarisikko_train.csv', header=None)"
   ]
  },
  {
   "cell_type": "code",
   "execution_count": 626,
   "metadata": {},
   "outputs": [],
   "source": [
    "df_beautifulxtravel_test = pd.read_csv('./beautifulxtravel/beautifultravel_text/beautifulxtravel_test.csv', header=None)"
   ]
  },
  {
   "cell_type": "code",
   "execution_count": 627,
   "metadata": {},
   "outputs": [],
   "source": [
    "df_chloebarryhang_test = pd.read_csv('./chloebarryhang/chloebarryhang_text/chloebarryhang_test.csv', header=None)"
   ]
  },
  {
   "cell_type": "code",
   "execution_count": 628,
   "metadata": {},
   "outputs": [],
   "source": [
    "df_explorerssaurus_test = pd.read_csv('./explorerssaurus_/explorerssaurus_text/explorerssaurus_test.csv', header=None)"
   ]
  },
  {
   "cell_type": "code",
   "execution_count": 629,
   "metadata": {},
   "outputs": [],
   "source": [
    "df_jesswandering_test = pd.read_csv('./jesswandering/jesswandering_text/jesswandering_test.csv', header=None)"
   ]
  },
  {
   "cell_type": "code",
   "execution_count": 630,
   "metadata": {},
   "outputs": [],
   "source": [
    "df_lostleblanc_test = pd.read_csv('./lostleblanc/lostleblanc_text/lostleblanc_test.csv', header=None)"
   ]
  },
  {
   "cell_type": "code",
   "execution_count": 631,
   "metadata": {},
   "outputs": [],
   "source": [
    "df_moonmountainman_test = pd.read_csv('./moonmountainman/moomountainman_text/moonmountainman_test.csv', header=None)"
   ]
  },
  {
   "cell_type": "code",
   "execution_count": 632,
   "metadata": {},
   "outputs": [],
   "source": [
    "df_theblondeabroad_test = pd.read_csv('./theblondeabroad/theblondabroad_text/theblondeabroad_test.csv', header=None)"
   ]
  },
  {
   "cell_type": "code",
   "execution_count": 633,
   "metadata": {},
   "outputs": [],
   "source": [
    "df_watchluke_test = pd.read_csv('./watchluke/watchluke_text/watchluke_test.csv', header=None)"
   ]
  },
  {
   "cell_type": "code",
   "execution_count": 634,
   "metadata": {},
   "outputs": [],
   "source": [
    "df_mikesugianto_test = pd.read_csv('./mikesugianto/mikesugianto_text/mikesugianto_test.csv', header=None)"
   ]
  },
  {
   "cell_type": "code",
   "execution_count": 635,
   "metadata": {},
   "outputs": [],
   "source": [
    "df_jukkarisikko_test = pd.read_csv('./jukkarisikko/jukkarisikko_text/jukkarisikko_test.csv', header=None)"
   ]
  },
  {
   "cell_type": "code",
   "execution_count": 610,
   "metadata": {},
   "outputs": [],
   "source": [
    "instabang_train = df_beautifulxtravel_train.append(df_chloebarryhang_train, ignore_index=True)"
   ]
  },
  {
   "cell_type": "code",
   "execution_count": 638,
   "metadata": {},
   "outputs": [],
   "source": [
    "instabang_train = instabang_train.append(df_explorerssaurus_train, ignore_index=True)"
   ]
  },
  {
   "cell_type": "code",
   "execution_count": 639,
   "metadata": {},
   "outputs": [],
   "source": [
    "instabang_train = instabang_train.append(df_jesswandering_train, ignore_index=True)"
   ]
  },
  {
   "cell_type": "code",
   "execution_count": 640,
   "metadata": {},
   "outputs": [],
   "source": [
    "instabang_train = instabang_train.append(df_lostleblanc_train, ignore_index=True)"
   ]
  },
  {
   "cell_type": "code",
   "execution_count": 641,
   "metadata": {},
   "outputs": [],
   "source": [
    "instabang_train = instabang_train.append(df_moonmountainman_train, ignore_index=True)"
   ]
  },
  {
   "cell_type": "code",
   "execution_count": 642,
   "metadata": {},
   "outputs": [],
   "source": [
    "instabang_train = instabang_train.append(df_theblondeabroad_train, ignore_index=True)"
   ]
  },
  {
   "cell_type": "code",
   "execution_count": 643,
   "metadata": {},
   "outputs": [],
   "source": [
    "instabang_train = instabang_train.append(df_watchluke_train, ignore_index=True)"
   ]
  },
  {
   "cell_type": "code",
   "execution_count": 644,
   "metadata": {},
   "outputs": [],
   "source": [
    "instabang_train = instabang_train.append(df_mikesugianto_train, ignore_index=True)"
   ]
  },
  {
   "cell_type": "code",
   "execution_count": 645,
   "metadata": {},
   "outputs": [],
   "source": [
    "instabang_train = instabang_train.append(df_jukkarisikko_train, ignore_index=True)"
   ]
  },
  {
   "cell_type": "code",
   "execution_count": 646,
   "metadata": {},
   "outputs": [
    {
     "ename": "IndexError",
     "evalue": "index 1 is out of bounds for axis 0 with size 1",
     "output_type": "error",
     "traceback": [
      "\u001b[0;31m---------------------------------------------------------------------------\u001b[0m",
      "\u001b[0;31mIndexError\u001b[0m                                Traceback (most recent call last)",
      "\u001b[0;32m<ipython-input-646-e1fb535b2e00>\u001b[0m in \u001b[0;36m<module>\u001b[0;34m\u001b[0m\n\u001b[0;32m----> 1\u001b[0;31m \u001b[0minstabang_train\u001b[0m\u001b[0;34m.\u001b[0m\u001b[0mdrop\u001b[0m\u001b[0;34m(\u001b[0m\u001b[0minstabang_train\u001b[0m\u001b[0;34m.\u001b[0m\u001b[0mcolumns\u001b[0m\u001b[0;34m[\u001b[0m\u001b[0;36m1\u001b[0m\u001b[0;34m]\u001b[0m\u001b[0;34m,\u001b[0m \u001b[0maxis\u001b[0m\u001b[0;34m=\u001b[0m\u001b[0;36m1\u001b[0m\u001b[0;34m,\u001b[0m \u001b[0minplace\u001b[0m\u001b[0;34m=\u001b[0m\u001b[0;32mTrue\u001b[0m\u001b[0;34m)\u001b[0m\u001b[0;34m\u001b[0m\u001b[0;34m\u001b[0m\u001b[0m\n\u001b[0m",
      "\u001b[0;32m/opt/anaconda3/lib/python3.7/site-packages/pandas/core/indexes/base.py\u001b[0m in \u001b[0;36m__getitem__\u001b[0;34m(self, key)\u001b[0m\n\u001b[1;32m   3928\u001b[0m         \u001b[0;32mif\u001b[0m \u001b[0mis_scalar\u001b[0m\u001b[0;34m(\u001b[0m\u001b[0mkey\u001b[0m\u001b[0;34m)\u001b[0m\u001b[0;34m:\u001b[0m\u001b[0;34m\u001b[0m\u001b[0;34m\u001b[0m\u001b[0m\n\u001b[1;32m   3929\u001b[0m             \u001b[0mkey\u001b[0m \u001b[0;34m=\u001b[0m \u001b[0mcom\u001b[0m\u001b[0;34m.\u001b[0m\u001b[0mcast_scalar_indexer\u001b[0m\u001b[0;34m(\u001b[0m\u001b[0mkey\u001b[0m\u001b[0;34m)\u001b[0m\u001b[0;34m\u001b[0m\u001b[0;34m\u001b[0m\u001b[0m\n\u001b[0;32m-> 3930\u001b[0;31m             \u001b[0;32mreturn\u001b[0m \u001b[0mgetitem\u001b[0m\u001b[0;34m(\u001b[0m\u001b[0mkey\u001b[0m\u001b[0;34m)\u001b[0m\u001b[0;34m\u001b[0m\u001b[0;34m\u001b[0m\u001b[0m\n\u001b[0m\u001b[1;32m   3931\u001b[0m \u001b[0;34m\u001b[0m\u001b[0m\n\u001b[1;32m   3932\u001b[0m         \u001b[0;32mif\u001b[0m \u001b[0misinstance\u001b[0m\u001b[0;34m(\u001b[0m\u001b[0mkey\u001b[0m\u001b[0;34m,\u001b[0m \u001b[0mslice\u001b[0m\u001b[0;34m)\u001b[0m\u001b[0;34m:\u001b[0m\u001b[0;34m\u001b[0m\u001b[0;34m\u001b[0m\u001b[0m\n",
      "\u001b[0;31mIndexError\u001b[0m: index 1 is out of bounds for axis 0 with size 1"
     ]
    }
   ],
   "source": [
    "instabang_train.drop(instabang_train.columns[1], axis=1, inplace=True)"
   ]
  },
  {
   "cell_type": "code",
   "execution_count": 636,
   "metadata": {},
   "outputs": [],
   "source": [
    "instabang_test = df_beautifulxtravel_test.append(df_chloebarryhang_test, ignore_index=True)"
   ]
  },
  {
   "cell_type": "code",
   "execution_count": 648,
   "metadata": {},
   "outputs": [],
   "source": [
    "instabang_test = instabang_test.append(df_explorerssaurus_test, ignore_index=True)"
   ]
  },
  {
   "cell_type": "code",
   "execution_count": 649,
   "metadata": {},
   "outputs": [],
   "source": [
    "instabang_test = instabang_test.append(df_jesswandering_test, ignore_index=True)"
   ]
  },
  {
   "cell_type": "code",
   "execution_count": 650,
   "metadata": {},
   "outputs": [],
   "source": [
    "instabang_test = instabang_test.append(df_lostleblanc_test, ignore_index=True)"
   ]
  },
  {
   "cell_type": "code",
   "execution_count": 651,
   "metadata": {},
   "outputs": [],
   "source": [
    "instabang_test = instabang_test.append(df_moonmountainman_test, ignore_index=True)"
   ]
  },
  {
   "cell_type": "code",
   "execution_count": 652,
   "metadata": {},
   "outputs": [],
   "source": [
    "instabang_test = instabang_test.append(df_theblondeabroad_test, ignore_index=True)"
   ]
  },
  {
   "cell_type": "code",
   "execution_count": 653,
   "metadata": {},
   "outputs": [],
   "source": [
    "instabang_test = instabang_test.append(df_watchluke_test, ignore_index=True)"
   ]
  },
  {
   "cell_type": "code",
   "execution_count": 654,
   "metadata": {},
   "outputs": [],
   "source": [
    "instabang_test = instabang_test.append(df_mikesugianto_test, ignore_index=True)"
   ]
  },
  {
   "cell_type": "code",
   "execution_count": 655,
   "metadata": {},
   "outputs": [],
   "source": [
    "instabang_test = instabang_test.append(df_jukkarisikko_test, ignore_index=True)"
   ]
  },
  {
   "cell_type": "code",
   "execution_count": 647,
   "metadata": {},
   "outputs": [],
   "source": [
    "instabang_train.to_csv('instabang_train.txt', header=False, index=False, mode='w')"
   ]
  },
  {
   "cell_type": "code",
   "execution_count": 657,
   "metadata": {},
   "outputs": [],
   "source": [
    "instabang_test.to_csv('instabang_test.txt', header=False, index=False, mode='w')"
   ]
  }
 ],
 "metadata": {
  "kernelspec": {
   "display_name": "Python 3",
   "language": "python",
   "name": "python3"
  },
  "language_info": {
   "codemirror_mode": {
    "name": "ipython",
    "version": 3
   },
   "file_extension": ".py",
   "mimetype": "text/x-python",
   "name": "python",
   "nbconvert_exporter": "python",
   "pygments_lexer": "ipython3",
   "version": "3.7.6"
  }
 },
 "nbformat": 4,
 "nbformat_minor": 4
}
